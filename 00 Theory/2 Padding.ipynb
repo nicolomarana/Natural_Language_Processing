{
  "nbformat": 4,
  "nbformat_minor": 0,
  "metadata": {
    "colab": {
      "name": "2 Padding.ipynb",
      "provenance": [],
      "collapsed_sections": []
    },
    "kernelspec": {
      "name": "python3",
      "display_name": "Python 3"
    }
  },
  "cells": [
    {
      "cell_type": "markdown",
      "metadata": {
        "id": "pPGBouQDPNsT",
        "colab_type": "text"
      },
      "source": [
        "# Padding"
      ]
    },
    {
      "cell_type": "markdown",
      "metadata": {
        "id": "Bqqmd4HKPQfN",
        "colab_type": "text"
      },
      "source": [
        "Like in CNN we need to have same lenght in input, for this reason we use padding to add \"0\" and uniform with same lenght all sentence."
      ]
    },
    {
      "cell_type": "markdown",
      "metadata": {
        "id": "fVIelsm2PvU8",
        "colab_type": "text"
      },
      "source": [
        "https://keras.io/preprocessing/text/ # Library"
      ]
    },
    {
      "cell_type": "code",
      "metadata": {
        "id": "TdC29XMXPsq7",
        "colab_type": "code",
        "colab": {}
      },
      "source": [
        "# Import Library\n",
        "from tensorflow.keras.preprocessing.text import Tokenizer\n",
        "from tensorflow.keras.preprocessing.sequence import pad_sequences"
      ],
      "execution_count": 0,
      "outputs": []
    },
    {
      "cell_type": "code",
      "metadata": {
        "id": "9ZUe5BsFP3Tp",
        "colab_type": "code",
        "colab": {}
      },
      "source": [
        "sentences = [\n",
        "            'I love my dog',\n",
        "            'I love my cat',\n",
        "            'You love my dog!',\n",
        "            'Do you think my dog is amazing?'\n",
        "]"
      ],
      "execution_count": 0,
      "outputs": []
    },
    {
      "cell_type": "code",
      "metadata": {
        "id": "ipLbhIpKP4al",
        "colab_type": "code",
        "outputId": "87d52fb9-803b-4c8f-c9cc-bf8cb045c2b6",
        "colab": {
          "base_uri": "https://localhost:8080/",
          "height": 743
        }
      },
      "source": [
        "tokenizer = Tokenizer(num_words=100,  oov_token=\"<00V>\")\n",
        "tokenizer.fit_on_texts(sentences) # fit on sentence.\n",
        "word_index = tokenizer.word_index # print word_index\n",
        "print(\"Word INDEX: \\n\", word_index, '\\n')\n",
        "\n",
        "sequences = tokenizer.texts_to_sequences(sentences) # tokenize sentences\n",
        "print(\"Whitout PADDING \\n\", sequences, '\\n')\n",
        "\n",
        "# Type of padding\n",
        "padded = pad_sequences(sequences)\n",
        "print(\"Normal Padding zeros at start \\n\", padded, '\\n')\n",
        "\n",
        "\n",
        "padded1 = pad_sequences(sequences, padding='post') # add zeros after\n",
        "print(\"Padding with zeros end \\n\", padded1, '\\n')\n",
        "\n",
        "padded2 = pad_sequences(sequences, maxlen=5, padding='post') # max len= 5, delete first\n",
        "print(\"Padding max len 5, delete first, zeros after \\n\", padded2, '\\n')\n",
        "\n",
        "padded3 = pad_sequences(sequences, maxlen=5) # max len= 5, delete first\n",
        "print(\"Padding max len 5, delete first, zeros in start \\n\", padded3, '\\n')\n",
        "\n",
        "padded4 = pad_sequences(sequences, maxlen=5, truncating='post') # max len= 5, delete first\n",
        "print(\"Padding max len 5, delete post, zeros in start \\n\", padded4, '\\n')\n",
        "\n",
        "padded5 = pad_sequences(sequences, maxlen=5, truncating='post', padding='post') # max len= 5, delete first\n",
        "print(\"Padding max len 5, delete post, zeros in end \\n\", padded5, '\\n')"
      ],
      "execution_count": 0,
      "outputs": [
        {
          "output_type": "stream",
          "text": [
            "Word INDEX: \n",
            " {'<00V>': 1, 'my': 2, 'love': 3, 'dog': 4, 'i': 5, 'you': 6, 'cat': 7, 'do': 8, 'think': 9, 'is': 10, 'amazing': 11} \n",
            "\n",
            "Whitout PADDING \n",
            " [[5, 3, 2, 4], [5, 3, 2, 7], [6, 3, 2, 4], [8, 6, 9, 2, 4, 10, 11]] \n",
            "\n",
            "Normal Padding zeros at start \n",
            " [[ 0  0  0  5  3  2  4]\n",
            " [ 0  0  0  5  3  2  7]\n",
            " [ 0  0  0  6  3  2  4]\n",
            " [ 8  6  9  2  4 10 11]] \n",
            "\n",
            "Padding with zeros end \n",
            " [[ 5  3  2  4  0  0  0]\n",
            " [ 5  3  2  7  0  0  0]\n",
            " [ 6  3  2  4  0  0  0]\n",
            " [ 8  6  9  2  4 10 11]] \n",
            "\n",
            "Padding max len 5, delete first, zeros after \n",
            " [[ 5  3  2  4  0]\n",
            " [ 5  3  2  7  0]\n",
            " [ 6  3  2  4  0]\n",
            " [ 9  2  4 10 11]] \n",
            "\n",
            "Padding max len 5, delete first, zeros in start \n",
            " [[ 0  5  3  2  4]\n",
            " [ 0  5  3  2  7]\n",
            " [ 0  6  3  2  4]\n",
            " [ 9  2  4 10 11]] \n",
            "\n",
            "Padding max len 5, delete post, zeros in start \n",
            " [[0 5 3 2 4]\n",
            " [0 5 3 2 7]\n",
            " [0 6 3 2 4]\n",
            " [8 6 9 2 4]] \n",
            "\n",
            "Padding max len 5, delete post, zeros in end \n",
            " [[5 3 2 4 0]\n",
            " [5 3 2 7 0]\n",
            " [6 3 2 4 0]\n",
            " [8 6 9 2 4]] \n",
            "\n"
          ],
          "name": "stdout"
        }
      ]
    },
    {
      "cell_type": "code",
      "metadata": {
        "id": "6INMK-AzP7PZ",
        "colab_type": "code",
        "outputId": "7b2ae28d-b184-4028-b9e3-b88b583e6ccb",
        "colab": {
          "base_uri": "https://localhost:8080/",
          "height": 35
        }
      },
      "source": [
        "# Text to sequence\n",
        "sequences = tokenizer.texts_to_sequences(sentences) # tokenize sentences\n",
        "\n",
        "print(sequences)"
      ],
      "execution_count": 0,
      "outputs": [
        {
          "output_type": "stream",
          "text": [
            "[[3, 1, 2, 4], [3, 1, 2, 5], [6, 1, 2, 4]]\n"
          ],
          "name": "stdout"
        }
      ]
    },
    {
      "cell_type": "code",
      "metadata": {
        "id": "d5iEnuCtQXMd",
        "colab_type": "code",
        "outputId": "bce77945-14c4-41e8-934f-31244d45129d",
        "colab": {
          "base_uri": "https://localhost:8080/",
          "height": 69
        }
      },
      "source": [
        "# Test on new data\n",
        "test_data = ['i really love my dog', 'my dog loves my manatee']\n",
        "\n",
        "test_seq = tokenizer.texts_to_sequences(test_data)\n",
        "print(\"Test Sequence\", test_seq)\n",
        "\n",
        "padded = pad_sequences(test_seq, maxlen=10)\n",
        "print(padded)"
      ],
      "execution_count": 0,
      "outputs": [
        {
          "output_type": "stream",
          "text": [
            "Test Sequence [[5, 1, 3, 2, 4], [2, 4, 1, 2, 1]]\n",
            "[[0 0 0 0 0 5 1 3 2 4]\n",
            " [0 0 0 0 0 2 4 1 2 1]]\n"
          ],
          "name": "stdout"
        }
      ]
    }
  ]
}