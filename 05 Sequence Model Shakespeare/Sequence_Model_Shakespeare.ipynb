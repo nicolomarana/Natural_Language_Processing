{
  "nbformat": 4,
  "nbformat_minor": 0,
  "metadata": {
    "colab": {
      "name": "Sequence Model Shakespeare.ipynb",
      "provenance": [],
      "collapsed_sections": []
    },
    "kernelspec": {
      "name": "python3",
      "display_name": "Python 3"
    },
    "accelerator": "GPU"
  },
  "cells": [
    {
      "cell_type": "code",
      "metadata": {
        "id": "CWdryHW7BnVS",
        "colab_type": "code",
        "colab": {}
      },
      "source": [
        "# Import Library\n",
        "from tensorflow.keras.preprocessing.sequence import pad_sequences\n",
        "from tensorflow.keras.layers import Embedding, LSTM, Dense, Dropout, Bidirectional\n",
        "from tensorflow.keras.preprocessing.text import Tokenizer\n",
        "from tensorflow.keras.models import Sequential\n",
        "from tensorflow.keras.optimizers import Adam\n",
        "from tensorflow.keras import regularizers\n",
        "import tensorflow.keras.utils as ku \n",
        "import numpy as np "
      ],
      "execution_count": 0,
      "outputs": []
    },
    {
      "cell_type": "code",
      "metadata": {
        "id": "RxCrq8LmBrBd",
        "colab_type": "code",
        "outputId": "7f5ef6f9-9174-4b58-b7e2-e2c8b0396d0f",
        "colab": {
          "base_uri": "https://localhost:8080/",
          "height": 204
        }
      },
      "source": [
        "# Download data\n",
        "!wget --no-check-certificate \\\n",
        "    https://storage.googleapis.com/laurencemoroney-blog.appspot.com/sonnets.txt \\\n",
        "    -O /tmp/sonnets.txt"
      ],
      "execution_count": 2,
      "outputs": [
        {
          "output_type": "stream",
          "text": [
            "--2020-04-20 09:12:35--  https://storage.googleapis.com/laurencemoroney-blog.appspot.com/sonnets.txt\n",
            "Resolving storage.googleapis.com (storage.googleapis.com)... 74.125.204.128, 2404:6800:4008:c05::80\n",
            "Connecting to storage.googleapis.com (storage.googleapis.com)|74.125.204.128|:443... connected.\n",
            "HTTP request sent, awaiting response... 200 OK\n",
            "Length: 93578 (91K) [text/plain]\n",
            "Saving to: ‘/tmp/sonnets.txt’\n",
            "\n",
            "\r/tmp/sonnets.txt      0%[                    ]       0  --.-KB/s               \r/tmp/sonnets.txt    100%[===================>]  91.38K  --.-KB/s    in 0.001s  \n",
            "\n",
            "2020-04-20 09:12:35 (66.8 MB/s) - ‘/tmp/sonnets.txt’ saved [93578/93578]\n",
            "\n"
          ],
          "name": "stdout"
        }
      ]
    },
    {
      "cell_type": "code",
      "metadata": {
        "id": "zaHtCUocB1qz",
        "colab_type": "code",
        "colab": {}
      },
      "source": [
        "# Read Data\n",
        "data = open('/tmp/sonnets.txt').read()\n",
        "\n",
        "# Create Corpus\n",
        "corpus = data.lower().split(\"\\n\")"
      ],
      "execution_count": 0,
      "outputs": []
    },
    {
      "cell_type": "code",
      "metadata": {
        "id": "H4jN3W_MBtKl",
        "colab_type": "code",
        "colab": {}
      },
      "source": [
        "# Initialize Tokenizer\n",
        "tokenizer = Tokenizer()\n",
        "\n",
        "# Process Tokenizer\n",
        "tokenizer.fit_on_texts(corpus)\n",
        "total_words = len(tokenizer.word_index) + 1\n",
        "\n",
        "# create input sequences using list of tokens\n",
        "input_sequences = []\n",
        "for line in corpus:\n",
        "\ttoken_list = tokenizer.texts_to_sequences([line])[0]\n",
        "\tfor i in range(1, len(token_list)):\n",
        "\t\tn_gram_sequence = token_list[:i+1]\n",
        "\t\tinput_sequences.append(n_gram_sequence)\n",
        "  \n",
        "# pad sequences \n",
        "max_sequence_len = max([len(x) for x in input_sequences])\n",
        "input_sequences = np.array(pad_sequences(input_sequences, maxlen=max_sequence_len, padding='pre'))\n",
        "\n",
        "# create predictors and label\n",
        "predictors, label = input_sequences[:,:-1],input_sequences[:,-1]\n",
        "\n",
        "label = ku.to_categorical(label, num_classes=total_words)"
      ],
      "execution_count": 0,
      "outputs": []
    },
    {
      "cell_type": "code",
      "metadata": {
        "id": "ViTup9lqCT-b",
        "colab_type": "code",
        "outputId": "0b7f58b8-b9c4-4c06-f0ea-70b01a24e9c0",
        "colab": {
          "base_uri": "https://localhost:8080/",
          "height": 374
        }
      },
      "source": [
        "# Model\n",
        "model = Sequential()\n",
        "model.add(Embedding(total_words, 100, input_length=max_sequence_len-1))\n",
        "model.add(Bidirectional(LSTM(150, return_sequences = True)))\n",
        "model.add(Dropout(0.2))\n",
        "model.add(LSTM(100))\n",
        "model.add(Dense(total_words/2, activation='relu', kernel_regularizer=regularizers.l2(0.01)))\n",
        "model.add(Dense(total_words, activation='softmax'))\n",
        "model.compile(loss='categorical_crossentropy', optimizer='adam', metrics=['accuracy'])\n",
        "print(model.summary())\n"
      ],
      "execution_count": 5,
      "outputs": [
        {
          "output_type": "stream",
          "text": [
            "Model: \"sequential\"\n",
            "_________________________________________________________________\n",
            "Layer (type)                 Output Shape              Param #   \n",
            "=================================================================\n",
            "embedding (Embedding)        (None, 10, 100)           321100    \n",
            "_________________________________________________________________\n",
            "bidirectional (Bidirectional (None, 10, 300)           301200    \n",
            "_________________________________________________________________\n",
            "dropout (Dropout)            (None, 10, 300)           0         \n",
            "_________________________________________________________________\n",
            "lstm_1 (LSTM)                (None, 100)               160400    \n",
            "_________________________________________________________________\n",
            "dense (Dense)                (None, 1605)              162105    \n",
            "_________________________________________________________________\n",
            "dense_1 (Dense)              (None, 3211)              5156866   \n",
            "=================================================================\n",
            "Total params: 6,101,671\n",
            "Trainable params: 6,101,671\n",
            "Non-trainable params: 0\n",
            "_________________________________________________________________\n",
            "None\n"
          ],
          "name": "stdout"
        }
      ]
    },
    {
      "cell_type": "code",
      "metadata": {
        "id": "QiuffhJ3CXA1",
        "colab_type": "code",
        "outputId": "7a178000-7765-4a4a-d6e1-ea10674ed7f0",
        "colab": {
          "base_uri": "https://localhost:8080/",
          "height": 1000
        }
      },
      "source": [
        " history = model.fit(predictors, label, epochs=100, verbose=1)"
      ],
      "execution_count": 6,
      "outputs": [
        {
          "output_type": "stream",
          "text": [
            "Epoch 1/100\n",
            "484/484 [==============================] - 13s 26ms/step - loss: 6.9128 - accuracy: 0.0228\n",
            "Epoch 2/100\n",
            "484/484 [==============================] - 12s 26ms/step - loss: 6.5044 - accuracy: 0.0248\n",
            "Epoch 3/100\n",
            "484/484 [==============================] - 12s 26ms/step - loss: 6.3878 - accuracy: 0.0269\n",
            "Epoch 4/100\n",
            "484/484 [==============================] - 13s 26ms/step - loss: 6.2829 - accuracy: 0.0307\n",
            "Epoch 5/100\n",
            "484/484 [==============================] - 13s 26ms/step - loss: 6.1907 - accuracy: 0.0363\n",
            "Epoch 6/100\n",
            "484/484 [==============================] - 13s 26ms/step - loss: 6.0989 - accuracy: 0.0404\n",
            "Epoch 7/100\n",
            "484/484 [==============================] - 12s 26ms/step - loss: 6.0047 - accuracy: 0.0412\n",
            "Epoch 8/100\n",
            "484/484 [==============================] - 12s 26ms/step - loss: 5.9224 - accuracy: 0.0440\n",
            "Epoch 9/100\n",
            "484/484 [==============================] - 12s 26ms/step - loss: 5.8329 - accuracy: 0.0486\n",
            "Epoch 10/100\n",
            "484/484 [==============================] - 12s 26ms/step - loss: 5.7471 - accuracy: 0.0506\n",
            "Epoch 11/100\n",
            "484/484 [==============================] - 12s 26ms/step - loss: 5.6674 - accuracy: 0.0539\n",
            "Epoch 12/100\n",
            "484/484 [==============================] - 12s 26ms/step - loss: 5.5907 - accuracy: 0.0589\n",
            "Epoch 13/100\n",
            "484/484 [==============================] - 12s 26ms/step - loss: 5.5064 - accuracy: 0.0653\n",
            "Epoch 14/100\n",
            "484/484 [==============================] - 13s 26ms/step - loss: 5.4284 - accuracy: 0.0678\n",
            "Epoch 15/100\n",
            "484/484 [==============================] - 12s 26ms/step - loss: 5.3427 - accuracy: 0.0721\n",
            "Epoch 16/100\n",
            "484/484 [==============================] - 12s 26ms/step - loss: 5.2573 - accuracy: 0.0792\n",
            "Epoch 17/100\n",
            "484/484 [==============================] - 12s 26ms/step - loss: 5.1756 - accuracy: 0.0809\n",
            "Epoch 18/100\n",
            "484/484 [==============================] - 13s 27ms/step - loss: 5.0888 - accuracy: 0.0920\n",
            "Epoch 19/100\n",
            "484/484 [==============================] - 13s 26ms/step - loss: 5.0124 - accuracy: 0.0953\n",
            "Epoch 20/100\n",
            "484/484 [==============================] - 12s 26ms/step - loss: 4.9285 - accuracy: 0.1026\n",
            "Epoch 21/100\n",
            "484/484 [==============================] - 13s 26ms/step - loss: 4.8462 - accuracy: 0.1097\n",
            "Epoch 22/100\n",
            "484/484 [==============================] - 12s 26ms/step - loss: 4.7694 - accuracy: 0.1157\n",
            "Epoch 23/100\n",
            "484/484 [==============================] - 12s 26ms/step - loss: 4.6882 - accuracy: 0.1201\n",
            "Epoch 24/100\n",
            "484/484 [==============================] - 12s 26ms/step - loss: 4.6032 - accuracy: 0.1297\n",
            "Epoch 25/100\n",
            "484/484 [==============================] - 12s 26ms/step - loss: 4.5247 - accuracy: 0.1412\n",
            "Epoch 26/100\n",
            "484/484 [==============================] - 12s 26ms/step - loss: 4.4497 - accuracy: 0.1466\n",
            "Epoch 27/100\n",
            "484/484 [==============================] - 12s 26ms/step - loss: 4.3676 - accuracy: 0.1590\n",
            "Epoch 28/100\n",
            "484/484 [==============================] - 12s 26ms/step - loss: 4.2962 - accuracy: 0.1650\n",
            "Epoch 29/100\n",
            "484/484 [==============================] - 12s 26ms/step - loss: 4.2165 - accuracy: 0.1744\n",
            "Epoch 30/100\n",
            "484/484 [==============================] - 12s 26ms/step - loss: 4.1501 - accuracy: 0.1850\n",
            "Epoch 31/100\n",
            "484/484 [==============================] - 12s 26ms/step - loss: 4.0734 - accuracy: 0.1938\n",
            "Epoch 32/100\n",
            "484/484 [==============================] - 12s 26ms/step - loss: 3.9945 - accuracy: 0.2040\n",
            "Epoch 33/100\n",
            "484/484 [==============================] - 12s 26ms/step - loss: 3.9275 - accuracy: 0.2168\n",
            "Epoch 34/100\n",
            "484/484 [==============================] - 12s 26ms/step - loss: 3.8653 - accuracy: 0.2251\n",
            "Epoch 35/100\n",
            "484/484 [==============================] - 12s 26ms/step - loss: 3.7869 - accuracy: 0.2359\n",
            "Epoch 36/100\n",
            "484/484 [==============================] - 12s 26ms/step - loss: 3.7176 - accuracy: 0.2491\n",
            "Epoch 37/100\n",
            "484/484 [==============================] - 12s 26ms/step - loss: 3.6572 - accuracy: 0.2623\n",
            "Epoch 38/100\n",
            "484/484 [==============================] - 12s 26ms/step - loss: 3.5909 - accuracy: 0.2733\n",
            "Epoch 39/100\n",
            "484/484 [==============================] - 12s 26ms/step - loss: 3.5341 - accuracy: 0.2822\n",
            "Epoch 40/100\n",
            "484/484 [==============================] - 13s 26ms/step - loss: 3.4642 - accuracy: 0.2975\n",
            "Epoch 41/100\n",
            "484/484 [==============================] - 13s 26ms/step - loss: 3.4080 - accuracy: 0.3084\n",
            "Epoch 42/100\n",
            "484/484 [==============================] - 13s 27ms/step - loss: 3.3579 - accuracy: 0.3201\n",
            "Epoch 43/100\n",
            "484/484 [==============================] - 13s 27ms/step - loss: 3.2917 - accuracy: 0.3346\n",
            "Epoch 44/100\n",
            "484/484 [==============================] - 13s 26ms/step - loss: 3.2431 - accuracy: 0.3448\n",
            "Epoch 45/100\n",
            "484/484 [==============================] - 13s 26ms/step - loss: 3.1865 - accuracy: 0.3568\n",
            "Epoch 46/100\n",
            "484/484 [==============================] - 13s 26ms/step - loss: 3.1287 - accuracy: 0.3707\n",
            "Epoch 47/100\n",
            "484/484 [==============================] - 13s 26ms/step - loss: 3.0893 - accuracy: 0.3816\n",
            "Epoch 48/100\n",
            "484/484 [==============================] - 13s 26ms/step - loss: 3.0232 - accuracy: 0.3925\n",
            "Epoch 49/100\n",
            "484/484 [==============================] - 13s 26ms/step - loss: 2.9720 - accuracy: 0.4044\n",
            "Epoch 50/100\n",
            "484/484 [==============================] - 13s 26ms/step - loss: 2.9165 - accuracy: 0.4215\n",
            "Epoch 51/100\n",
            "484/484 [==============================] - 13s 26ms/step - loss: 2.8777 - accuracy: 0.4298\n",
            "Epoch 52/100\n",
            "484/484 [==============================] - 13s 26ms/step - loss: 2.8229 - accuracy: 0.4387\n",
            "Epoch 53/100\n",
            "484/484 [==============================] - 13s 26ms/step - loss: 2.7723 - accuracy: 0.4501\n",
            "Epoch 54/100\n",
            "484/484 [==============================] - 13s 26ms/step - loss: 2.7347 - accuracy: 0.4571\n",
            "Epoch 55/100\n",
            "484/484 [==============================] - 13s 26ms/step - loss: 2.6930 - accuracy: 0.4642\n",
            "Epoch 56/100\n",
            "484/484 [==============================] - 13s 26ms/step - loss: 2.6466 - accuracy: 0.4727\n",
            "Epoch 57/100\n",
            "484/484 [==============================] - 13s 26ms/step - loss: 2.6008 - accuracy: 0.4911\n",
            "Epoch 58/100\n",
            "484/484 [==============================] - 13s 26ms/step - loss: 2.5425 - accuracy: 0.5044\n",
            "Epoch 59/100\n",
            "484/484 [==============================] - 13s 26ms/step - loss: 2.5240 - accuracy: 0.5095\n",
            "Epoch 60/100\n",
            "484/484 [==============================] - 13s 26ms/step - loss: 2.4607 - accuracy: 0.5216\n",
            "Epoch 61/100\n",
            "484/484 [==============================] - 13s 26ms/step - loss: 2.4234 - accuracy: 0.5330\n",
            "Epoch 62/100\n",
            "484/484 [==============================] - 13s 26ms/step - loss: 2.3805 - accuracy: 0.5397\n",
            "Epoch 63/100\n",
            "484/484 [==============================] - 13s 26ms/step - loss: 2.3514 - accuracy: 0.5486\n",
            "Epoch 64/100\n",
            "484/484 [==============================] - 13s 26ms/step - loss: 2.3108 - accuracy: 0.5571\n",
            "Epoch 65/100\n",
            "484/484 [==============================] - 13s 26ms/step - loss: 2.2685 - accuracy: 0.5699\n",
            "Epoch 66/100\n",
            "484/484 [==============================] - 13s 27ms/step - loss: 2.2346 - accuracy: 0.5740\n",
            "Epoch 67/100\n",
            "484/484 [==============================] - 13s 27ms/step - loss: 2.2095 - accuracy: 0.5795\n",
            "Epoch 68/100\n",
            "484/484 [==============================] - 13s 26ms/step - loss: 2.1716 - accuracy: 0.5894\n",
            "Epoch 69/100\n",
            "484/484 [==============================] - 13s 26ms/step - loss: 2.1354 - accuracy: 0.5977\n",
            "Epoch 70/100\n",
            "484/484 [==============================] - 13s 26ms/step - loss: 2.1218 - accuracy: 0.5993\n",
            "Epoch 71/100\n",
            "484/484 [==============================] - 13s 26ms/step - loss: 2.0814 - accuracy: 0.6100\n",
            "Epoch 72/100\n",
            "484/484 [==============================] - 13s 26ms/step - loss: 2.0431 - accuracy: 0.6186\n",
            "Epoch 73/100\n",
            "484/484 [==============================] - 13s 26ms/step - loss: 2.0101 - accuracy: 0.6267\n",
            "Epoch 74/100\n",
            "484/484 [==============================] - 13s 26ms/step - loss: 1.9795 - accuracy: 0.6345\n",
            "Epoch 75/100\n",
            "484/484 [==============================] - 13s 26ms/step - loss: 1.9612 - accuracy: 0.6364\n",
            "Epoch 76/100\n",
            "484/484 [==============================] - 13s 26ms/step - loss: 1.9233 - accuracy: 0.6464\n",
            "Epoch 77/100\n",
            "484/484 [==============================] - 13s 26ms/step - loss: 1.8965 - accuracy: 0.6528\n",
            "Epoch 78/100\n",
            "484/484 [==============================] - 13s 26ms/step - loss: 1.8847 - accuracy: 0.6555\n",
            "Epoch 79/100\n",
            "484/484 [==============================] - 13s 26ms/step - loss: 1.8634 - accuracy: 0.6549\n",
            "Epoch 80/100\n",
            "484/484 [==============================] - 13s 26ms/step - loss: 1.8186 - accuracy: 0.6698\n",
            "Epoch 81/100\n",
            "484/484 [==============================] - 13s 26ms/step - loss: 1.7927 - accuracy: 0.6764\n",
            "Epoch 82/100\n",
            "484/484 [==============================] - 13s 26ms/step - loss: 1.7739 - accuracy: 0.6759\n",
            "Epoch 83/100\n",
            "484/484 [==============================] - 13s 26ms/step - loss: 1.7575 - accuracy: 0.6834\n",
            "Epoch 84/100\n",
            "484/484 [==============================] - 13s 26ms/step - loss: 1.7239 - accuracy: 0.6912\n",
            "Epoch 85/100\n",
            "484/484 [==============================] - 13s 26ms/step - loss: 1.7015 - accuracy: 0.6927\n",
            "Epoch 86/100\n",
            "484/484 [==============================] - 12s 26ms/step - loss: 1.6845 - accuracy: 0.6978\n",
            "Epoch 87/100\n",
            "484/484 [==============================] - 13s 26ms/step - loss: 1.6772 - accuracy: 0.6995\n",
            "Epoch 88/100\n",
            "484/484 [==============================] - 13s 26ms/step - loss: 1.6488 - accuracy: 0.7048\n",
            "Epoch 89/100\n",
            "484/484 [==============================] - 13s 26ms/step - loss: 1.6293 - accuracy: 0.7084\n",
            "Epoch 90/100\n",
            "484/484 [==============================] - 13s 27ms/step - loss: 1.6053 - accuracy: 0.7129\n",
            "Epoch 91/100\n",
            "484/484 [==============================] - 13s 26ms/step - loss: 1.5938 - accuracy: 0.7143\n",
            "Epoch 92/100\n",
            "484/484 [==============================] - 13s 27ms/step - loss: 1.5744 - accuracy: 0.7183\n",
            "Epoch 93/100\n",
            "484/484 [==============================] - 13s 26ms/step - loss: 1.5580 - accuracy: 0.7236\n",
            "Epoch 94/100\n",
            "484/484 [==============================] - 13s 26ms/step - loss: 1.5382 - accuracy: 0.7282\n",
            "Epoch 95/100\n",
            "484/484 [==============================] - 13s 26ms/step - loss: 1.5200 - accuracy: 0.7304\n",
            "Epoch 96/100\n",
            "484/484 [==============================] - 13s 26ms/step - loss: 1.5030 - accuracy: 0.7354\n",
            "Epoch 97/100\n",
            "484/484 [==============================] - 13s 26ms/step - loss: 1.4893 - accuracy: 0.7389\n",
            "Epoch 98/100\n",
            "484/484 [==============================] - 13s 26ms/step - loss: 1.4745 - accuracy: 0.7422\n",
            "Epoch 99/100\n",
            "484/484 [==============================] - 13s 26ms/step - loss: 1.4606 - accuracy: 0.7395\n",
            "Epoch 100/100\n",
            "484/484 [==============================] - 13s 26ms/step - loss: 1.4555 - accuracy: 0.7418\n"
          ],
          "name": "stdout"
        }
      ]
    },
    {
      "cell_type": "code",
      "metadata": {
        "id": "pM2jG7iVCaeb",
        "colab_type": "code",
        "outputId": "bf7c30e4-ccb2-46d3-9ab6-6fe228c84897",
        "colab": {
          "base_uri": "https://localhost:8080/",
          "height": 545
        }
      },
      "source": [
        "import matplotlib.pyplot as plt\n",
        "acc = history.history['accuracy']\n",
        "loss = history.history['loss']\n",
        "\n",
        "epochs = range(len(acc))\n",
        "\n",
        "plt.plot(epochs, acc, 'b', label='Training accuracy')\n",
        "plt.title('Training accuracy')\n",
        "\n",
        "plt.figure()\n",
        "\n",
        "plt.plot(epochs, loss, 'b', label='Training Loss')\n",
        "plt.title('Training loss')\n",
        "plt.legend()\n",
        "\n",
        "plt.show()"
      ],
      "execution_count": 7,
      "outputs": [
        {
          "output_type": "display_data",
          "data": {
            "image/png": "[encoded data removed]",
            "text/plain": [
              "<Figure size 432x288 with 1 Axes>"
            ]
          },
          "metadata": {
            "tags": [],
            "needs_background": "light"
          }
        },
        {
          "output_type": "display_data",
          "data": {
            "image/png": "[encoded data removed]",
            "text/plain": [
              "<Figure size 432x288 with 1 Axes>"
            ]
          },
          "metadata": {
            "tags": [],
            "needs_background": "light"
          }
        }
      ]
    },
    {
      "cell_type": "code",
      "metadata": {
        "id": "0nD0E7gXCeSu",
        "colab_type": "code",
        "outputId": "45a200b2-4c9e-4f05-acb2-6d2bec5d6564",
        "colab": {
          "base_uri": "https://localhost:8080/",
          "height": 105
        }
      },
      "source": [
        "seed_text = \"Love\"\n",
        "next_words = 100\n",
        "  \n",
        "for _ in range(next_words):\n",
        "\ttoken_list = tokenizer.texts_to_sequences([seed_text])[0]\n",
        "\ttoken_list = pad_sequences([token_list], maxlen=max_sequence_len-1, padding='pre')\n",
        "\tpredicted = model.predict_classes(token_list, verbose=0)\n",
        "\toutput_word = \"\"\n",
        "\tfor word, index in tokenizer.word_index.items():\n",
        "\t\tif index == predicted:\n",
        "\t\t\toutput_word = word\n",
        "\t\t\tbreak\n",
        "\tseed_text += \" \" + output_word\n",
        "print(seed_text)"
      ],
      "execution_count": 8,
      "outputs": [
        {
          "output_type": "stream",
          "text": [
            "WARNING:tensorflow:From <ipython-input-8-6e60f98b264a>:7: Sequential.predict_classes (from tensorflow.python.keras.engine.sequential) is deprecated and will be removed after 2021-01-01.\n",
            "Instructions for updating:\n",
            "Please use instead:* `np.argmax(model.predict(x), axis=-1)`,   if your model does multi-class classification   (e.g. if it uses a `softmax` last-layer activation).* `(model.predict(x) > 0.5).astype(\"int32\")`,   if your model does binary classification   (e.g. if it uses a `sigmoid` last-layer activation).\n",
            "Love is my sin and thy dear virtue hate well near life held well lie of thee truth 'will ' die so 'will of show me so thine eyes not thee and me thought they find me gladly alone ' now see me old so level so thine eye eyes not after thee die with thee ' shows not done hell well well night now born well thinks am seen keep more eyes so 'will ' grow made from first me strife bring thee back cannot bring better shine so 'will ' still 'will ' doth see show thee thy fair\n"
          ],
          "name": "stdout"
        }
      ]
    },
    {
      "cell_type": "code",
      "metadata": {
        "id": "_6YyYLW6ElV2",
        "colab_type": "code",
        "colab": {}
      },
      "source": [
        ""
      ],
      "execution_count": 0,
      "outputs": []
    }
  ]
}